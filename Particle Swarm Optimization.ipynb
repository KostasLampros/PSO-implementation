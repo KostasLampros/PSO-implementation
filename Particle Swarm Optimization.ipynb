{
 "cells": [
  {
   "cell_type": "code",
   "execution_count": 2,
   "metadata": {},
   "outputs": [],
   "source": [
    "import numpy as np\n",
    "import pandas as pd\n",
    "import matplotlib.pyplot as plt"
   ]
  },
  {
   "cell_type": "code",
   "execution_count": 292,
   "metadata": {},
   "outputs": [],
   "source": [
    "# Definition of functions to be optimized \n",
    "def sphere(particles_x): \n",
    "    sum = 0\n",
    "    for i in range(n):\n",
    "        sum += particles_x[i]**2\n",
    "    return sum  \n",
    "\n",
    "def booth(particles_x):\n",
    "    result =(particles_x[0] + 2*particles_x[1]-7)**2 +(2*particles_x[0]+particles_x[1]-5)**2\n",
    "    return result"
   ]
  },
  {
   "cell_type": "code",
   "execution_count": 293,
   "metadata": {},
   "outputs": [],
   "source": [
    "# Constant Initialisation\n",
    "population = 20     # Size of the swarm\n",
    "n = 2               # Function dimentions \n",
    "maxiter = 2000      # Looping constrain\n",
    "tol = 1e-06         # Error margin\n",
    "mass_max = 0.9      # Max inertia\n",
    "mass_min = 0.4      # Min inertia\n",
    "mass = mass_max     # Mass initialisation\n",
    "c1 = c2 = 2         # Learning rates\n",
    "\n",
    "glob_prog = []      # Array to save values of best x and f(x) per iteration \n",
    "X_l = np.empty(n)\n",
    "X_u = np.empty(n)\n",
    "i = 0               # Iteration number\n",
    "\n",
    "symmetric = True    # Choose if boundaries will be symmetrical to siplify wall decleration\n",
    "boundary = 10       # Boundry value if summetric\n",
    "if symmetric == True:               \n",
    "    for dim in range(n):          # Set lower and upper symmetric boundries\n",
    "        X_l[dim] = -boundary\n",
    "        X_u[dim] = boundary\n",
    "else:\n",
    "    X_l = []                # Lower boundry for X vector put by hand\n",
    "    X_u = []                 # Upper boundry for X vector put by hand\n"
   ]
  },
  {
   "cell_type": "code",
   "execution_count": 294,
   "metadata": {},
   "outputs": [],
   "source": [
    "# Chosen function to be itereted this run\n",
    "f = booth  \n",
    "\n",
    "if f == booth: # Condition for Booth function in case n was not set right at initialization\n",
    "    n = 2 "
   ]
  },
  {
   "cell_type": "code",
   "execution_count": 295,
   "metadata": {},
   "outputs": [],
   "source": [
    "# Set convergence vectors to stop the loop because x* is known\n",
    "# If x* is not known, the acording line in wile loop can be commented out\n",
    "convergence = 0"
   ]
  },
  {
   "cell_type": "code",
   "execution_count": 296,
   "metadata": {},
   "outputs": [],
   "source": [
    "# Initialize the particle population\n",
    "swarm = pd.DataFrame(columns=[\"x\", \"v\",\"f_x\", \"loc_xmin\", \"loc_fmin\"])       # Create main matrix \n",
    "swarm.v = np.array(np.zeros((population, n))).tolist()          # Fill velocity vector with zeroes\n",
    "# Fill x vector randomly (uniform)\n",
    "if symmetric == True:\n",
    "    swarm.x = np.array(np.random.uniform(-boundary, boundary, size=(population, n))).tolist()\n",
    "else:\n",
    "    dim = 0\n",
    "    c = np.empty([n, population])\n",
    "    for dim in range (n):\n",
    "        c[dim] = np.array(np.random.uniform(X_l[dim], X_u[dim], size=(population)))\n",
    "    swarm.x = c.T.tolist()\n",
    "# Evaluate the particles’ f(x) and set the initial positions as local bests\n",
    "for i in range(population):\n",
    "    swarm.f_x[i] = f(swarm.loc[i][\"x\"])\n",
    "    swarm.loc_xmin[i] = np.copy(swarm.x[i])\n",
    "    swarm.loc_fmin[i] = f(swarm.loc[i][\"x\"])"
   ]
  },
  {
   "cell_type": "code",
   "execution_count": 297,
   "metadata": {},
   "outputs": [],
   "source": [
    "# Find min of all f(x) and set it as global best and its position as global x best \n",
    "j = int(swarm.index[swarm[\"f_x\"] == np.min(swarm[\"f_x\"])].tolist()[0])\n",
    "glob_xmin = np.copy(swarm.x[j])\n",
    "glob_fmin = swarm.f_x[j]"
   ]
  },
  {
   "cell_type": "code",
   "execution_count": 298,
   "metadata": {},
   "outputs": [
    {
     "name": "stdout",
     "output_type": "stream",
     "text": [
      "8\n",
      "[]\n"
     ]
    }
   ],
   "source": [
    "print(j)\n",
    "print(glob_prog)"
   ]
  },
  {
   "cell_type": "code",
   "execution_count": 299,
   "metadata": {},
   "outputs": [],
   "source": [
    "i = 0"
   ]
  },
  {
   "cell_type": "code",
   "execution_count": 300,
   "metadata": {},
   "outputs": [],
   "source": [
    "while (i < maxiter) :\n",
    "    # Store global best value for diagram.\n",
    "    glob_prog.append([glob_xmin, glob_fmin] )\n",
    "    # Check for convergence criterion\n",
    "    if np.allclose(glob_fmin, convergence, atol= tol): break\n",
    "\n",
    "    # Update Inertia\n",
    "    mass = mass_max - ((mass_max-mass_min)/maxiter)*i\n",
    "    for index, p in swarm.iterrows():\n",
    "        # Generate r1,r2 as random numbers in (0,1).\n",
    "        r1 = np.random.uniform()\n",
    "        r2 = np.random.uniform()\n",
    "        # Update its velocity according to the formula, with respect to local and global bests.\n",
    "        for k in range(0, n):\n",
    "            p.v[k] = mass*p.v[k]+c1*r1*(p.loc_xmin[k]-p.x[k])+c2*r2*(glob_xmin[k]-p.x[k])\n",
    "            # Update its position according to the formula.\n",
    "            p.x[k] += p.v[k]\n",
    "            # Apply boundaries (absorbing walls)\n",
    "            if p.x[k] < X_l[k]: p.x[k] = X_l[k]   \n",
    "            if p.x[k] > X_u[k]: p.x[k] = X_u[k]\n",
    "\n",
    "        # Check for local best update (by evaluation comparison) and if applicable:\n",
    "        p.f_x = f(p.x)\n",
    "        if p.f_x < p.loc_fmin: \n",
    "            p.loc_xmin = np.copy(p.x)\n",
    "            p.loc_fmin = np.copy(p.f_x)\n",
    "            ## Check for global best update.\n",
    "            if p.f_x < glob_fmin: \n",
    "                glob_xmin = np.copy(p.x)\n",
    "                glob_fmin = p.f_x\n",
    "    i+=1"
   ]
  },
  {
   "cell_type": "code",
   "execution_count": 301,
   "metadata": {},
   "outputs": [
    {
     "name": "stdout",
     "output_type": "stream",
     "text": [
      "Convergance reached\n",
      "stoped after 398 iterretions\n"
     ]
    }
   ],
   "source": [
    "if i != maxiter:\n",
    "    print(\"Convergance reached\")\n",
    "    print(\"stoped after \"+ str(i) + \" iterretions\")"
   ]
  },
  {
   "cell_type": "code",
   "execution_count": 302,
   "metadata": {},
   "outputs": [],
   "source": [
    "x = []\n",
    "fx = []\n",
    "for best in glob_prog:\n",
    "    x.append(best[0])           #Position values\n",
    "    fx.append(best[1])          #Function values\n",
    "    \n"
   ]
  },
  {
   "cell_type": "code",
   "execution_count": 303,
   "metadata": {},
   "outputs": [
    {
     "data": {
      "text/plain": [
       "<function matplotlib.pyplot.show(close=None, block=None)>"
      ]
     },
     "execution_count": 303,
     "metadata": {},
     "output_type": "execute_result"
    },
    {
     "data": {
      "image/png": "[encoded data removed]",
      "text/plain": [
       "<Figure size 432x288 with 1 Axes>"
      ]
     },
     "metadata": {
      "needs_background": "light"
     },
     "output_type": "display_data"
    }
   ],
   "source": [
    "#Plot the values of f progresion\n",
    "# plt.xlim([0, 30])       # x axis limits to \"zoom\"\n",
    "plt.xlabel(\"Iteretion i\")     \n",
    "plt.ylabel(\"$f(x)$ at global best\")     \n",
    "plt.plot(fx)\n",
    "plt.show"
   ]
  },
  {
   "cell_type": "code",
   "execution_count": 304,
   "metadata": {},
   "outputs": [
    {
     "data": {
      "image/png": "[encoded data removed]",
      "text/plain": [
       "<Figure size 432x288 with 1 Axes>"
      ]
     },
     "metadata": {
      "needs_background": "light"
     },
     "output_type": "display_data"
    }
   ],
   "source": [
    "#Plot the values of eatch position dimention progresion\n",
    "fig, ax = plt.subplots()\n",
    "# plt.xlim([0, 30])     # x axis limits to \"zoom\"\n",
    "plt.xlabel(\"Iteretion i\")     \n",
    "plt.ylabel(\"$x_i$ at global best\")  \n",
    "for i in range(n):\n",
    "    ax.plot(np.array(x)[:,i].tolist())"
   ]
  },
  {
   "cell_type": "code",
   "execution_count": 310,
   "metadata": {},
   "outputs": [
    {
     "data": {
      "text/plain": [
       "<function matplotlib.pyplot.show(close=None, block=None)>"
      ]
     },
     "execution_count": 310,
     "metadata": {},
     "output_type": "execute_result"
    },
    {
     "data": {
      "image/png": "[encoded data removed]",
      "text/plain": [
       "<Figure size 432x288 with 1 Axes>"
      ]
     },
     "metadata": {
      "needs_background": "light"
     },
     "output_type": "display_data"
    }
   ],
   "source": [
    "#Plot the values of f progresion\n",
    "plt.xlim([-2, 100])       # x axis limits to \"zoom\"\n",
    "plt.xlabel(\"Iteretion i\")     \n",
    "plt.ylabel(\"$f(x)$ at global best\")     \n",
    "plt.plot(fx)\n",
    "plt.show"
   ]
  },
  {
   "cell_type": "code",
   "execution_count": 309,
   "metadata": {},
   "outputs": [
    {
     "data": {
      "image/png": "[encoded data removed]",
      "text/plain": [
       "<Figure size 432x288 with 1 Axes>"
      ]
     },
     "metadata": {
      "needs_background": "light"
     },
     "output_type": "display_data"
    }
   ],
   "source": [
    "#Plot the values of eatch position dimention progresion\n",
    "fig, ax = plt.subplots()\n",
    "plt.xlim([-2, 100])     # x axis limits to \"zoom\"\n",
    "plt.xlabel(\"Iteretion i\")     \n",
    "plt.ylabel(\"$x_i$ at global best\")  \n",
    "for i in range(n):\n",
    "    ax.plot(np.array(x)[:,i].tolist())"
   ]
  },
  {
   "cell_type": "code",
   "execution_count": null,
   "metadata": {},
   "outputs": [],
   "source": [
    "while (i < maxiter) & False :\n",
    "    # Store global best value for diagram.\n",
    "    glob_prog.append([glob_xmin, glob_fmin] )\n",
    "    # Check for convergence criterion\n",
    "    if np.allclose(glob_xmin, convergence, atol= tol): break\n",
    "\n",
    "    # Update Inertia\n",
    "    mass = mass_max - ((mass_max-mass_min)/maxiter)*i\n",
    "    for index, p in swarm.iterrows():\n",
    "        # Generate r1,r2 as random numbers in (0,1).\n",
    "        r1 = np.random.uniform()\n",
    "        r2 = np.random.uniform()\n",
    "        # Update its velocity according to the formula, with respect to local and global bests.\n",
    "        p.v = np.multiply(mass,p.v)+np.multiply(c1*r1,(p.loc_xmin-p.x))+np.multiply(c2*r2,(glob_xmin-p.x))\n",
    "        # Update its position according to the formula.\n",
    "        p.x[k] = np.add(p.x[k],p.v[k])\n",
    "        for k in range(0, n):\n",
    "            # Apply boundaries (absorbing walls)\n",
    "            if p.x[k] < X_l[k]: p.x[k] = X_l[k]   \n",
    "            if p.x[k] > X_u[k]: p.x[k] = X_u[k]\n",
    "\n",
    "        # Check for local best update (by evaluation comparison) and if applicable:\n",
    "        p.f_x = f(p.x)\n",
    "        if p.f_x < f(p.loc_xmin): \n",
    "            p.loc_xmin = np.copy(p.x)\n",
    "            ## Check for global best update.\n",
    "            if p.f_x < glob_fmin: \n",
    "                glob_xmin = np.copy(p.x)\n",
    "                glob_fmin = p.f_x\n",
    "    i+=1"
   ]
  },
  {
   "cell_type": "code",
   "execution_count": 114,
   "metadata": {},
   "outputs": [
    {
     "data": {
      "text/plain": [
       "2.131414e-05"
      ]
     },
     "execution_count": 114,
     "metadata": {},
     "output_type": "execute_result"
    }
   ],
   "source": [
    " 2.131414e-5"
   ]
  },
  {
   "cell_type": "code",
   "execution_count": 311,
   "metadata": {},
   "outputs": [
    {
     "name": "stdout",
     "output_type": "stream",
     "text": [
      "9.993702e-01\n",
      "3.000445e+00\n",
      "7.309691e-07\n"
     ]
    }
   ],
   "source": [
    "print(\"{:e}\".format(glob_xmin[0]))\n",
    "print(\"{:e}\".format(glob_xmin[1]))\n",
    "print(\"{:e}\".format(glob_fmin))"
   ]
  },
  {
   "cell_type": "code",
   "execution_count": null,
   "metadata": {},
   "outputs": [],
   "source": []
  }
 ],
 "metadata": {
  "interpreter": {
   "hash": "15e8813d9a6ffdac537a184f971b4a264ea06ed5ca1ba978eeb30cac12d1d0af"
  },
  "kernelspec": {
   "display_name": "Python 3.10.2 64-bit",
   "language": "python",
   "name": "python3"
  },
  "language_info": {
   "codemirror_mode": {
    "name": "ipython",
    "version": 3
   },
   "file_extension": ".py",
   "mimetype": "text/x-python",
   "name": "python",
   "nbconvert_exporter": "python",
   "pygments_lexer": "ipython3",
   "version": "3.10.2"
  },
  "orig_nbformat": 4
 },
 "nbformat": 4,
 "nbformat_minor": 2
}
